{
 "cells": [
  {
   "cell_type": "code",
   "execution_count": 2,
   "id": "9fe43792-6298-4ab2-af1c-29baa77109aa",
   "metadata": {
    "id": "9fe43792-6298-4ab2-af1c-29baa77109aa"
   },
   "outputs": [
    {
     "name": "stdout",
     "output_type": "stream",
     "text": [
      "28.05_19.05\n"
     ]
    }
   ],
   "source": [
    "import sys\n",
    "import os\n",
    "\n",
    "cwd = os.getcwd()\n",
    "h, _ = os.path.split(cwd)\n",
    "\n",
    "sys.path.append(h)\n",
    "\n",
    "from scripts import viz, metrics\n",
    "from scripts.metrics import DetectionMetrics\n",
    "from datetime import datetime\n",
    "\n",
    "DATE = datetime.today().strftime('%d.%m_%H.%M')\n",
    "SUP_RESULTS_FOLDER = f\"supervised/{DATE}\"\n",
    "IAD_RESULTS_FOLDER = f\"idealized/{DATE}\"\n",
    "\n",
    "sup_metrics_dir = os.path.join(os.getcwd(), f'{SUP_RESULTS_FOLDER}/metrics')\n",
    "iad_metrics_dir = os.path.join(os.getcwd(), f'{IAD_RESULTS_FOLDER}/metrics')\n",
    "sup_classifier_dir = os.path.join(os.getcwd(), f'{SUP_RESULTS_FOLDER}/classifiers')\n",
    "iad_classifier_dir = os.path.join(os.getcwd(), f'{IAD_RESULTS_FOLDER}/classifiers')\n",
    "\n",
    "for fld in [sup_metrics_dir, iad_metrics_dir,\n",
    "            sup_classifier_dir, iad_classifier_dir]:\n",
    "    os.makedirs(fld, exist_ok=True)\n",
    "\n",
    "print(DATE)"
   ]
  },
  {
   "cell_type": "code",
   "execution_count": 3,
   "id": "48653b34-9ed0-4df1-b18a-a3adccee2be3",
   "metadata": {
    "id": "48653b34-9ed0-4df1-b18a-a3adccee2be3"
   },
   "outputs": [],
   "source": [
    "# const\n",
    "n_runs = 3\n",
    "n_epochs = 100\n",
    "batch_size = 128"
   ]
  },
  {
   "cell_type": "markdown",
   "id": "37f79276-4832-448e-94b9-028d8bed8fd3",
   "metadata": {
    "id": "37f79276-4832-448e-94b9-028d8bed8fd3"
   },
   "source": [
    "# Test Data"
   ]
  },
  {
   "cell_type": "code",
   "execution_count": 7,
   "id": "fa2a777f-132b-4a95-b923-e5f643085a3d",
   "metadata": {
    "colab": {
     "base_uri": "https://localhost:8080/"
    },
    "id": "fa2a777f-132b-4a95-b923-e5f643085a3d",
    "outputId": "76e5b325-eb5d-4329-b67f-1e8e54a612ca"
   },
   "outputs": [
    {
     "data": {
      "text/plain": [
       "((60000, 6), (300000, 6))"
      ]
     },
     "execution_count": 7,
     "metadata": {},
     "output_type": "execute_result"
    }
   ],
   "source": [
    "import numpy as np\n",
    "import pandas as pd\n",
    "\n",
    "SR_test = pd.read_csv(\"../data/evaluation/SR_test.csv\")\n",
    "extrabg_SR_test = pd.read_csv(\"../data/evaluation/extrabg_SR_test.csv\")\n",
    "\n",
    "SR_test.shape, extrabg_SR_test.shape"
   ]
  },
  {
   "cell_type": "markdown",
   "id": "adfb3d9a-0f2b-4349-b3c2-762d02973c93",
   "metadata": {
    "id": "adfb3d9a-0f2b-4349-b3c2-762d02973c93"
   },
   "source": [
    "Здесь мы **оставляем** тестовые данные как есть, просто потому что `preds_from_model` так хочет."
   ]
  },
  {
   "cell_type": "code",
   "execution_count": 8,
   "id": "21c19632-50b0-4a16-8371-4e2f6adf3547",
   "metadata": {
    "colab": {
     "base_uri": "https://localhost:8080/"
    },
    "id": "21c19632-50b0-4a16-8371-4e2f6adf3547",
    "outputId": "3abd9d7c-164c-4926-d8c9-2de17d33fd37"
   },
   "outputs": [
    {
     "data": {
      "text/plain": [
       "(360000, 6)"
      ]
     },
     "execution_count": 8,
     "metadata": {},
     "output_type": "execute_result"
    }
   ],
   "source": [
    "test_data = pd.concat([SR_test, extrabg_SR_test]).to_numpy()\n",
    "test_target = test_data[:, -1]\n",
    "\n",
    "test_data = test_data\n",
    "test_data.shape"
   ]
  },
  {
   "cell_type": "code",
   "execution_count": 9,
   "id": "c51c2dff-c67a-4a32-b29c-4e744506d463",
   "metadata": {
    "colab": {
     "base_uri": "https://localhost:8080/"
    },
    "id": "c51c2dff-c67a-4a32-b29c-4e744506d463",
    "outputId": "af28e757-1794-4920-dac1-2fc88b8d5058"
   },
   "outputs": [
    {
     "data": {
      "text/plain": [
       "0.05555555555555555"
      ]
     },
     "execution_count": 9,
     "metadata": {},
     "output_type": "execute_result"
    }
   ],
   "source": [
    "test_target.mean()"
   ]
  },
  {
   "cell_type": "markdown",
   "id": "7a26bc86-d0f3-4261-9c9a-64a939b77ece",
   "metadata": {
    "id": "7a26bc86-d0f3-4261-9c9a-64a939b77ece"
   },
   "source": [
    "# Functional"
   ]
  },
  {
   "cell_type": "code",
   "execution_count": 11,
   "id": "31ac47d7-077a-4c4e-90b6-8bc74a5048b0",
   "metadata": {
    "id": "31ac47d7-077a-4c4e-90b6-8bc74a5048b0"
   },
   "outputs": [],
   "source": [
    "from scripts.nn_classifier import get_loaders\n",
    "from sklearn.preprocessing import StandardScaler\n",
    "from scripts.nn_classifier import train_classifier\n",
    "from scripts.nn_classifier import preds_from_model\n",
    "\n",
    "\n",
    "def get_preds(data_train, model_paths, clf_dir):\n",
    "    clf_dir = os.path.join(os.getcwd(), clf_dir)\n",
    "    sc = StandardScaler().fit(data_train)\n",
    "    preds_matrix = preds_from_model(test_data, sc, model_paths, save_dir=clf_dir)\n",
    "    return preds_matrix"
   ]
  },
  {
   "cell_type": "markdown",
   "id": "dbbb81ec-b073-4eb0-b75e-45c3e65ad8f0",
   "metadata": {
    "id": "dbbb81ec-b073-4eb0-b75e-45c3e65ad8f0"
   },
   "source": [
    "# Supervised\n",
    "\n",
    "For the supervised classifier the simulated SR data is used: 272k background events + 55k signal events"
   ]
  },
  {
   "cell_type": "code",
   "execution_count": 12,
   "id": "627b408a-3484-494a-97d4-76f5886d2ec9",
   "metadata": {
    "colab": {
     "base_uri": "https://localhost:8080/"
    },
    "id": "627b408a-3484-494a-97d4-76f5886d2ec9",
    "outputId": "a509c940-0307-4aa0-b4b6-d26fbabeedf2"
   },
   "outputs": [
    {
     "data": {
      "text/plain": [
       "((27263, 6), (136429, 6), (27264, 6), (136429, 6))"
      ]
     },
     "execution_count": 12,
     "metadata": {},
     "output_type": "execute_result"
    }
   ],
   "source": [
    "sig_train = pd.read_csv(\"../data/simulation/extrasig_SR_train.csv\")\n",
    "bkg_train = pd.read_csv(\"../data/simulation/extrabg_SR_train.csv\")\n",
    "sig_valid = pd.read_csv(\"../data/simulation/extrasig_SR_val.csv\")\n",
    "bkg_valid = pd.read_csv(\"../data/simulation/extrabg_SR_val.csv\")\n",
    "\n",
    "sig_train.shape, bkg_train.shape, sig_valid.shape, bkg_valid.shape"
   ]
  },
  {
   "cell_type": "markdown",
   "id": "e28cd715-e665-420b-ba18-405e16b7a246",
   "metadata": {
    "id": "e28cd715-e665-420b-ba18-405e16b7a246"
   },
   "source": [
    "Last column is signal/background label"
   ]
  },
  {
   "cell_type": "code",
   "execution_count": 13,
   "id": "24bf604d-f84d-485c-a74c-b1a788bb1a4b",
   "metadata": {
    "colab": {
     "base_uri": "https://localhost:8080/"
    },
    "id": "24bf604d-f84d-485c-a74c-b1a788bb1a4b",
    "outputId": "8170529f-44b1-4028-9784-df82f5fc6734"
   },
   "outputs": [
    {
     "data": {
      "text/plain": [
       "((163692, 4), (163693, 4))"
      ]
     },
     "execution_count": 13,
     "metadata": {},
     "output_type": "execute_result"
    }
   ],
   "source": [
    "train_sup_data = pd.concat([sig_train, bkg_train]).to_numpy()[:, 1:] # no m_jj\n",
    "valid_sup_data = pd.concat([sig_valid, bkg_valid]).to_numpy()[:, 1:] # no m_jj\n",
    "\n",
    "train_sup_target = train_sup_data[:, -1]\n",
    "valid_sup_target = valid_sup_data[:, -1]\n",
    "\n",
    "train_sup_data = train_sup_data[:, :-1]\n",
    "valid_sup_data = valid_sup_data[:, :-1]\n",
    "\n",
    "train_sup_data.shape, valid_sup_data.shape"
   ]
  },
  {
   "cell_type": "code",
   "execution_count": 14,
   "id": "54502c33-3b9a-4df8-a194-092f4a42c328",
   "metadata": {
    "colab": {
     "base_uri": "https://localhost:8080/"
    },
    "id": "54502c33-3b9a-4df8-a194-092f4a42c328",
    "outputId": "4a947b6a-8875-4dab-dd2a-e2541fe5b3ea"
   },
   "outputs": [
    {
     "data": {
      "text/plain": [
       "(0.16655059501991545, 0.16655568655959632)"
      ]
     },
     "execution_count": 14,
     "metadata": {},
     "output_type": "execute_result"
    }
   ],
   "source": [
    "train_sup_target.mean(), valid_sup_target.mean()"
   ]
  },
  {
   "cell_type": "markdown",
   "id": "6bb02026-64b0-4c8c-a05e-e1ea2469ae7f",
   "metadata": {
    "id": "6bb02026-64b0-4c8c-a05e-e1ea2469ae7f"
   },
   "source": [
    "## NN"
   ]
  },
  {
   "cell_type": "markdown",
   "id": "f6b9ffa7-45a0-4e8f-8b97-e7a0fbd7ab86",
   "metadata": {
    "id": "f6b9ffa7-45a0-4e8f-8b97-e7a0fbd7ab86"
   },
   "source": [
    "### Train"
   ]
  },
  {
   "cell_type": "code",
   "execution_count": 15,
   "id": "69aa9ca8-cab5-4c45-addb-977142ce1f0b",
   "metadata": {
    "colab": {
     "base_uri": "https://localhost:8080/",
     "height": 252,
     "referenced_widgets": [
      "e1d580f29dbd4c80a9831f392e0741c1",
      "2d8ed6ede08341b59d163ad568fe9bc7",
      "7978e069d5fb4851b9cee48e9cec1792",
      "05fb72a50a0c49ab900310ea922eedee",
      "93a8b2ba6e6a4f82b06dfd31d65b211e",
      "db15699f51544561a0688d1878a40e90",
      "36c9ec7c61e142d18547f491cb327b22",
      "25791a04b4e04fd7891978fc51c8110a",
      "dfb4d51d4f6c41bfab075cee5aa8c851",
      "082d5dd481a44470a87447ae22b59ea7",
      "d9d3fa04f3b4421e9f15f9fb01c4f28d",
      "fa325129f1b44c57bd694339d094394e",
      "a89e5def93a2416c9c868660ccac1fea",
      "048c9f9b79a843aba95ae6e01d397fdb",
      "c120c91ab2284d549f019c70f3b8b0e2",
      "5ddc39e8647440ec8c06c3c6d3ece0ab",
      "66d49ae1e04d479eb8fa4c56fea00d97",
      "a6123ada543f47cf872231898ff340eb",
      "0d6fbc7fd8064eb2a1ca006c598d8061",
      "f598e377745e4656a909f366433d679e",
      "b47a2f2f409e4b1aa9e9a5e91e36ca9b",
      "395eb959a7c040f98d90856f753a0256",
      "c8cecf364e694711bd89eac602277400",
      "02a9e10429b940fb836df9d590f8e658",
      "1102c0f2b59c4dd69df11f56cc9433f3",
      "ed69274b7387466aaf0a7bc3181e6a10",
      "5f4c252177b546f5998d9b619203ea52",
      "9c50c67052904f65a2157e62ec66e7d6",
      "b1f0204e10894780abc424b26d385fdc",
      "e98f426262b74367ba89432c58d93892",
      "26d3c0b3dbb94856bf7a1f9629d9137d",
      "1a4c64b06fdc4c98aeba6dded3e3cffb",
      "c6fc2f2b0f9a4388911cd2b8aba4f13b"
     ]
    },
    "id": "69aa9ca8-cab5-4c45-addb-977142ce1f0b",
    "outputId": "7bfddcc0-ce62-419e-e9a5-297b45e5ad3b"
   },
   "outputs": [
    {
     "name": "stdout",
     "output_type": "stream",
     "text": [
      "class_weight: [0.59991644 3.00209075]\n",
      "Run 1...\n"
     ]
    },
    {
     "data": {
      "application/vnd.jupyter.widget-view+json": {
       "model_id": "8d3811f443514a8d8250dccc0e6f0255",
       "version_major": 2,
       "version_minor": 0
      },
      "text/plain": [
       "epoch:   0%|          | 0/100 [00:00<?, ?it/s]"
      ]
     },
     "metadata": {},
     "output_type": "display_data"
    },
    {
     "name": "stdout",
     "output_type": "stream",
     "text": [
      "Run 2...\n"
     ]
    },
    {
     "data": {
      "application/vnd.jupyter.widget-view+json": {
       "model_id": "876abb066f2d4d21a22703f937c576b8",
       "version_major": 2,
       "version_minor": 0
      },
      "text/plain": [
       "epoch:   0%|          | 0/100 [00:00<?, ?it/s]"
      ]
     },
     "metadata": {},
     "output_type": "display_data"
    },
    {
     "name": "stdout",
     "output_type": "stream",
     "text": [
      "Run 3...\n"
     ]
    },
    {
     "data": {
      "application/vnd.jupyter.widget-view+json": {
       "model_id": "9ab423be00ca4971b8cd7e7b09239f0b",
       "version_major": 2,
       "version_minor": 0
      },
      "text/plain": [
       "epoch:   0%|          | 0/100 [00:00<?, ?it/s]"
      ]
     },
     "metadata": {},
     "output_type": "display_data"
    },
    {
     "name": "stdout",
     "output_type": "stream",
     "text": [
      "10\n",
      "Run 1 minimum validation loss epochs: [91 74 99 87 88 85 82 79 76 97]\n",
      "Run 2 minimum validation loss epochs: [67 66 98 97 75 70 85 69 78 96]\n",
      "Run 3 minimum validation loss epochs: [89 85 84 96 65 77 80 72 73 94]\n"
     ]
    }
   ],
   "source": [
    "loaders, class_weight = get_loaders(train_sup_data, train_sup_target,\n",
    "                                    valid_sup_data, valid_sup_target)\n",
    "\n",
    "model_paths = train_classifier(loaders, class_weight, sup_classifier_dir, n_epochs, n_runs)"
   ]
  },
  {
   "cell_type": "markdown",
   "id": "ff6452b4-258f-4387-a5a8-00d8ffc473aa",
   "metadata": {
    "id": "ff6452b4-258f-4387-a5a8-00d8ffc473aa"
   },
   "source": [
    "### Preds"
   ]
  },
  {
   "cell_type": "code",
   "execution_count": 16,
   "id": "3d445778-e027-4a43-bed0-6b307d92850a",
   "metadata": {
    "id": "3d445778-e027-4a43-bed0-6b307d92850a"
   },
   "outputs": [],
   "source": [
    "sc = StandardScaler().fit(train_sup_data)\n",
    "sup_preds = preds_from_model(test_data, sc, model_paths, save_dir=sup_classifier_dir)"
   ]
  },
  {
   "cell_type": "markdown",
   "id": "84d45aab-58d0-4387-835c-8b9ea730deb8",
   "metadata": {
    "id": "84d45aab-58d0-4387-835c-8b9ea730deb8"
   },
   "source": [
    "### Metrics"
   ]
  },
  {
   "cell_type": "code",
   "execution_count": 17,
   "id": "32960c6c-2842-4af4-9df2-4f84d720f0b5",
   "metadata": {
    "colab": {
     "base_uri": "https://localhost:8080/",
     "height": 452
    },
    "id": "32960c6c-2842-4af4-9df2-4f84d720f0b5",
    "outputId": "ee111ab0-6c95-4938-df00-84494c9bdb92"
   },
   "outputs": [
    {
     "data": {
      "image/png": "[encoded data removed]",
      "text/plain": [
       "<Figure size 640x480 with 2 Axes>"
      ]
     },
     "metadata": {},
     "output_type": "display_data"
    },
    {
     "data": {
      "text/html": [
       "<div>\n",
       "<style scoped>\n",
       "    .dataframe tbody tr th:only-of-type {\n",
       "        vertical-align: middle;\n",
       "    }\n",
       "\n",
       "    .dataframe tbody tr th {\n",
       "        vertical-align: top;\n",
       "    }\n",
       "\n",
       "    .dataframe thead th {\n",
       "        text-align: right;\n",
       "    }\n",
       "</style>\n",
       "<table border=\"1\" class=\"dataframe\">\n",
       "  <thead>\n",
       "    <tr style=\"text-align: right;\">\n",
       "      <th></th>\n",
       "      <th>AUC-ROC</th>\n",
       "      <th>AUC-PR</th>\n",
       "      <th>AUC-SIC</th>\n",
       "    </tr>\n",
       "  </thead>\n",
       "  <tbody>\n",
       "    <tr>\n",
       "      <th>run 1</th>\n",
       "      <td>0.970976</td>\n",
       "      <td>0.822952</td>\n",
       "      <td>9.828368</td>\n",
       "    </tr>\n",
       "    <tr>\n",
       "      <th>run 2</th>\n",
       "      <td>0.971205</td>\n",
       "      <td>0.823222</td>\n",
       "      <td>9.728060</td>\n",
       "    </tr>\n",
       "    <tr>\n",
       "      <th>run 3</th>\n",
       "      <td>0.971114</td>\n",
       "      <td>0.823489</td>\n",
       "      <td>9.828751</td>\n",
       "    </tr>\n",
       "  </tbody>\n",
       "</table>\n",
       "</div>"
      ],
      "text/plain": [
       "        AUC-ROC    AUC-PR   AUC-SIC\n",
       "run 1  0.970976  0.822952  9.828368\n",
       "run 2  0.971205  0.823222  9.728060\n",
       "run 3  0.971114  0.823489  9.828751"
      ]
     },
     "execution_count": 17,
     "metadata": {},
     "output_type": "execute_result"
    }
   ],
   "source": [
    "from scripts.metrics import DetectionMetrics\n",
    "\n",
    "det_metrics = DetectionMetrics()\n",
    "det_metrics.show(sup_preds, test_target, save_dir=sup_metrics_dir)"
   ]
  },
  {
   "cell_type": "markdown",
   "id": "8d214d78-d95c-4465-9355-3a58828660a4",
   "metadata": {
    "id": "8d214d78-d95c-4465-9355-3a58828660a4"
   },
   "source": [
    "# Idealized AD\n",
    "\n",
    "For the idealized anomaly detector mock SR data (60k) and simulation SR background (136k) are used"
   ]
  },
  {
   "cell_type": "code",
   "execution_count": 18,
   "id": "36a227c3-da46-412c-bc06-5bb161eb3c92",
   "metadata": {
    "colab": {
     "base_uri": "https://localhost:8080/"
    },
    "id": "36a227c3-da46-412c-bc06-5bb161eb3c92",
    "outputId": "2d40e12a-0890-48fb-9278-f3b4f508f4d6"
   },
   "outputs": [
    {
     "data": {
      "text/plain": [
       "((60000, 6), (136429, 6), (60000, 6), (136429, 6))"
      ]
     },
     "execution_count": 18,
     "metadata": {},
     "output_type": "execute_result"
    }
   ],
   "source": [
    "sr_train = pd.read_csv(\"../data/mock/SR_train.csv\")\n",
    "bkg_train = pd.read_csv(\"../data/simulation/extrabg_SR_train.csv\")\n",
    "sr_valid = pd.read_csv(\"../data/mock/SR_val.csv\")\n",
    "bkg_valid = pd.read_csv(\"../data/simulation/extrabg_SR_val.csv\")\n",
    "\n",
    "sr_train.shape, bkg_train.shape, sr_valid.shape, bkg_valid.shape"
   ]
  },
  {
   "cell_type": "markdown",
   "id": "bEZOGI6n0Bra",
   "metadata": {
    "id": "bEZOGI6n0Bra"
   },
   "source": [
    "Данные с префиксом `SR` помечаем как `data`, с префиксом `bkg` -- `perfectly simulated`."
   ]
  },
  {
   "cell_type": "code",
   "execution_count": 19,
   "id": "e95dc221-2070-4c48-89a0-2e7db67fab5c",
   "metadata": {
    "id": "e95dc221-2070-4c48-89a0-2e7db67fab5c"
   },
   "outputs": [],
   "source": [
    "def add_column(arr, val):\n",
    "    z = np.full((arr.shape[0], 1), val)\n",
    "    return np.append(arr, z, axis=1)\n",
    "\n",
    "# Последний столбец удаляется -- не используем его\n",
    "sr_train_np = add_column(sr_train.to_numpy()[:, 1:-1], 1.0)\n",
    "bkg_train_np = add_column(bkg_train.to_numpy()[:, 1:-1], 0.0)\n",
    "\n",
    "sr_valid_np = add_column(sr_valid.to_numpy()[:, 1:-1], 1.0)\n",
    "bkg_valid_np = add_column(bkg_valid.to_numpy()[:, 1:-1], 0.0)"
   ]
  },
  {
   "cell_type": "code",
   "execution_count": 20,
   "id": "Y5KjoRBg-mw1",
   "metadata": {
    "colab": {
     "base_uri": "https://localhost:8080/"
    },
    "id": "Y5KjoRBg-mw1",
    "outputId": "fd65e71d-b35f-4c68-9d49-0cffbda588a8"
   },
   "outputs": [
    {
     "data": {
      "text/plain": [
       "((60000, 5), (136429, 5))"
      ]
     },
     "execution_count": 20,
     "metadata": {},
     "output_type": "execute_result"
    }
   ],
   "source": [
    "sr_train_np.shape, bkg_train_np.shape"
   ]
  },
  {
   "cell_type": "code",
   "execution_count": 21,
   "id": "2157a877-47f1-4c8d-a581-cd6a97292875",
   "metadata": {
    "colab": {
     "base_uri": "https://localhost:8080/"
    },
    "id": "2157a877-47f1-4c8d-a581-cd6a97292875",
    "outputId": "f0ca506f-a825-49a7-a065-b0f0d2a745b2"
   },
   "outputs": [
    {
     "data": {
      "text/plain": [
       "((196429, 4), (196429, 4))"
      ]
     },
     "execution_count": 21,
     "metadata": {},
     "output_type": "execute_result"
    }
   ],
   "source": [
    "train_iad_data = np.vstack([sr_train_np, bkg_train_np])\n",
    "valid_iad_data = np.vstack([sr_valid_np, bkg_valid_np])\n",
    "\n",
    "train_iad_target = train_iad_data[:, -1]\n",
    "valid_iad_target = valid_iad_data[:, -1]\n",
    "\n",
    "train_iad_data = train_iad_data[:, :-1]\n",
    "valid_iad_data = valid_iad_data[:, :-1]\n",
    "\n",
    "train_iad_data.shape, valid_iad_data.shape"
   ]
  },
  {
   "cell_type": "markdown",
   "id": "ea77ec4a-67cd-408e-bba3-b29bfe62cc38",
   "metadata": {
    "id": "ea77ec4a-67cd-408e-bba3-b29bfe62cc38"
   },
   "source": [
    "## NN"
   ]
  },
  {
   "cell_type": "markdown",
   "id": "895cda3d-195b-404c-bb40-522a99e6541a",
   "metadata": {
    "id": "895cda3d-195b-404c-bb40-522a99e6541a"
   },
   "source": [
    "### Train"
   ]
  },
  {
   "cell_type": "code",
   "execution_count": 22,
   "id": "59f9606f-3455-4d91-b6ac-0cc75f84b394",
   "metadata": {
    "colab": {
     "base_uri": "https://localhost:8080/",
     "height": 252,
     "referenced_widgets": [
      "f99bba1ed5d04dd681e6dd8d68dbbb43",
      "d016f8a372d84a638818e6692d8fc970",
      "aa7c9d4ffdc341ddb0a043ce11af5a7c",
      "da3944bd85b24ac5a662ecc6d4b99f86",
      "0f22733883184d9da98a2ea506214b36",
      "dd5cb196cc6440e587858936f41e848f",
      "9aee424cd03d457fb9eb81790f1ba0ba",
      "6c2608a2f06545eca14cc820e630aaa8",
      "7f646e9fb64e471cbd0ec26e194fd5a1",
      "4e1a06c3e4334f4e8ad0365dc16229f9",
      "e24db186c5f04219a71fcd05341387f8",
      "79859ecf11b14daea956cbc089b95670",
      "5c9aad2db7fb4c6c81d5e61aaa95bec6",
      "989cd1eaa24e4a089c690ab1ea07adb3",
      "34a7367d1e5541dca1665b89d3acec63",
      "636ad125fd804dd88ff67d0243e62464",
      "4c93896636b144fda6ceed4e0c8b602d",
      "20205b0c75ed4a5ca204dd8bd58a9a94",
      "f9b60d14e7b447a5aef4c8e493c1333b",
      "cebfb0be268d494682d83489d4627842",
      "0a107fce7125441b94a1384ccc53294e",
      "2cfb65e0c07e48acbc1555c8bf6e0deb",
      "53d9a1c4a1c74de592f1ec08be60e8e3",
      "1b2744a8c651411bbe909b774d6709bb",
      "0ce79c786f644cf5b8052ad8caf68b30",
      "a053bb830e1d4649b3e8f03829dcae92",
      "3a454948f3114ab2b8f88d4d4fe0a7e2",
      "9ef14cb93fa947adb402be0a49e65aca",
      "3f524778b29d486ea50e3807298ab623",
      "f5d6d04cb083440ab0d5d200eb90edda",
      "2d65545562bd4271a83d2be918d96224",
      "596b54a373084d09b64ae251b1d1f54e",
      "7dace837e39448ebaa906c76eb9ee5a1"
     ]
    },
    "id": "59f9606f-3455-4d91-b6ac-0cc75f84b394",
    "outputId": "7f160441-893c-489c-ba0d-222c0d300af8"
   },
   "outputs": [
    {
     "name": "stdout",
     "output_type": "stream",
     "text": [
      "class_weight: [0.7198946  1.63690833]\n",
      "Run 1...\n"
     ]
    },
    {
     "data": {
      "application/vnd.jupyter.widget-view+json": {
       "model_id": "d92ea5ce8112428a936588e0e9378fb7",
       "version_major": 2,
       "version_minor": 0
      },
      "text/plain": [
       "epoch:   0%|          | 0/100 [00:00<?, ?it/s]"
      ]
     },
     "metadata": {},
     "output_type": "display_data"
    },
    {
     "name": "stdout",
     "output_type": "stream",
     "text": [
      "Run 2...\n"
     ]
    },
    {
     "data": {
      "application/vnd.jupyter.widget-view+json": {
       "model_id": "9a5368cd2a864896a38188f8e3d113f0",
       "version_major": 2,
       "version_minor": 0
      },
      "text/plain": [
       "epoch:   0%|          | 0/100 [00:00<?, ?it/s]"
      ]
     },
     "metadata": {},
     "output_type": "display_data"
    },
    {
     "name": "stdout",
     "output_type": "stream",
     "text": [
      "Run 3...\n"
     ]
    },
    {
     "data": {
      "application/vnd.jupyter.widget-view+json": {
       "model_id": "12535b2ae5ac491080c1c8e837369aff",
       "version_major": 2,
       "version_minor": 0
      },
      "text/plain": [
       "epoch:   0%|          | 0/100 [00:00<?, ?it/s]"
      ]
     },
     "metadata": {},
     "output_type": "display_data"
    },
    {
     "name": "stdout",
     "output_type": "stream",
     "text": [
      "10\n",
      "Run 1 minimum validation loss epochs: [ 4 17 18  7  5  0 11 10  1  6]\n",
      "Run 2 minimum validation loss epochs: [17 13  2  3  4  5  1  7  8  9]\n",
      "Run 3 minimum validation loss epochs: [ 9 14  2 16 10  0 15 20  8 13]\n"
     ]
    }
   ],
   "source": [
    "loaders, class_weight = get_loaders(train_iad_data, train_iad_target, valid_iad_data, valid_iad_target)\n",
    "# class_weight = None\n",
    "model_paths = train_classifier(loaders, class_weight, iad_classifier_dir, n_epochs, n_runs)"
   ]
  },
  {
   "cell_type": "markdown",
   "id": "ce7320ff-f514-4710-9924-2a3e5827929f",
   "metadata": {
    "id": "ce7320ff-f514-4710-9924-2a3e5827929f"
   },
   "source": [
    "### Preds"
   ]
  },
  {
   "cell_type": "code",
   "execution_count": 23,
   "id": "a81425b4-9168-4d1c-8b25-06137470a7dc",
   "metadata": {
    "id": "a81425b4-9168-4d1c-8b25-06137470a7dc"
   },
   "outputs": [],
   "source": [
    "sc = StandardScaler().fit(train_iad_data)\n",
    "iad_preds = preds_from_model(test_data, sc, model_paths, save_dir=iad_classifier_dir)"
   ]
  },
  {
   "cell_type": "markdown",
   "id": "25b5e27a-5837-4533-9a53-d64da27a3677",
   "metadata": {
    "id": "25b5e27a-5837-4533-9a53-d64da27a3677"
   },
   "source": [
    "### Metrics"
   ]
  },
  {
   "cell_type": "code",
   "execution_count": 24,
   "id": "f7f5a8e9-c6fb-419f-87bf-842551df1e38",
   "metadata": {},
   "outputs": [
    {
     "data": {
      "image/png": "[encoded data removed]",
      "text/plain": [
       "<Figure size 640x480 with 2 Axes>"
      ]
     },
     "metadata": {},
     "output_type": "display_data"
    },
    {
     "data": {
      "text/html": [
       "<div>\n",
       "<style scoped>\n",
       "    .dataframe tbody tr th:only-of-type {\n",
       "        vertical-align: middle;\n",
       "    }\n",
       "\n",
       "    .dataframe tbody tr th {\n",
       "        vertical-align: top;\n",
       "    }\n",
       "\n",
       "    .dataframe thead th {\n",
       "        text-align: right;\n",
       "    }\n",
       "</style>\n",
       "<table border=\"1\" class=\"dataframe\">\n",
       "  <thead>\n",
       "    <tr style=\"text-align: right;\">\n",
       "      <th></th>\n",
       "      <th>AUC-ROC</th>\n",
       "      <th>AUC-PR</th>\n",
       "      <th>AUC-SIC</th>\n",
       "    </tr>\n",
       "  </thead>\n",
       "  <tbody>\n",
       "    <tr>\n",
       "      <th>run 1</th>\n",
       "      <td>0.861361</td>\n",
       "      <td>0.625138</td>\n",
       "      <td>4.684184</td>\n",
       "    </tr>\n",
       "    <tr>\n",
       "      <th>run 2</th>\n",
       "      <td>0.846017</td>\n",
       "      <td>0.593639</td>\n",
       "      <td>3.818150</td>\n",
       "    </tr>\n",
       "    <tr>\n",
       "      <th>run 3</th>\n",
       "      <td>0.869083</td>\n",
       "      <td>0.640059</td>\n",
       "      <td>5.192094</td>\n",
       "    </tr>\n",
       "  </tbody>\n",
       "</table>\n",
       "</div>"
      ],
      "text/plain": [
       "        AUC-ROC    AUC-PR   AUC-SIC\n",
       "run 1  0.861361  0.625138  4.684184\n",
       "run 2  0.846017  0.593639  3.818150\n",
       "run 3  0.869083  0.640059  5.192094"
      ]
     },
     "execution_count": 24,
     "metadata": {},
     "output_type": "execute_result"
    }
   ],
   "source": [
    "det_metrics = DetectionMetrics()\n",
    "det_metrics.show(iad_preds, test_target, save_dir=iad_metrics_dir)"
   ]
  }
 ],
 "metadata": {
  "accelerator": "GPU",
  "colab": {
   "gpuType": "T4",
   "provenance": []
  },
  "kernelspec": {
   "display_name": "Python 3 (ipykernel)",
   "language": "python",
   "name": "python3"
  },
  "language_info": {
   "codemirror_mode": {
    "name": "ipython",
    "version": 3
   },
   "file_extension": ".py",
   "mimetype": "text/x-python",
   "name": "python",
   "nbconvert_exporter": "python",
   "pygments_lexer": "ipython3",
   "version": "3.9.13"
  },
  "toc": {
   "base_numbering": 1,
   "nav_menu": {},
   "number_sections": true,
   "sideBar": true,
   "skip_h1_title": false,
   "title_cell": "Table of Contents",
   "title_sidebar": "Contents",
   "toc_cell": false,
   "toc_position": {},
   "toc_section_display": true,
   "toc_window_display": false
  },
  "widgets": {
   "application/vnd.jupyter.widget-state+json": {
    "02a9e10429b940fb836df9d590f8e658": {
     "model_module": "@jupyter-widgets/controls",
     "model_module_version": "1.5.0",
     "model_name": "HTMLModel",
     "state": {
      "_dom_classes": [],
      "_model_module": "@jupyter-widgets/controls",
      "_model_module_version": "1.5.0",
      "_model_name": "HTMLModel",
      "_view_count": null,
      "_view_module": "@jupyter-widgets/controls",
      "_view_module_version": "1.5.0",
      "_view_name": "HTMLView",
      "description": "",
      "description_tooltip": null,
      "layout": "IPY_MODEL_9c50c67052904f65a2157e62ec66e7d6",
      "placeholder": "​",
      "style": "IPY_MODEL_b1f0204e10894780abc424b26d385fdc",
      "value": "epoch: 100%"
     }
    },
    "048c9f9b79a843aba95ae6e01d397fdb": {
     "model_module": "@jupyter-widgets/controls",
     "model_module_version": "1.5.0",
     "model_name": "FloatProgressModel",
     "state": {
      "_dom_classes": [],
      "_model_module": "@jupyter-widgets/controls",
      "_model_module_version": "1.5.0",
      "_model_name": "FloatProgressModel",
      "_view_count": null,
      "_view_module": "@jupyter-widgets/controls",
      "_view_module_version": "1.5.0",
      "_view_name": "ProgressView",
      "bar_style": "success",
      "description": "",
      "description_tooltip": null,
      "layout": "IPY_MODEL_0d6fbc7fd8064eb2a1ca006c598d8061",
      "max": 100,
      "min": 0,
      "orientation": "horizontal",
      "style": "IPY_MODEL_f598e377745e4656a909f366433d679e",
      "value": 100
     }
    },
    "05fb72a50a0c49ab900310ea922eedee": {
     "model_module": "@jupyter-widgets/controls",
     "model_module_version": "1.5.0",
     "model_name": "HTMLModel",
     "state": {
      "_dom_classes": [],
      "_model_module": "@jupyter-widgets/controls",
      "_model_module_version": "1.5.0",
      "_model_name": "HTMLModel",
      "_view_count": null,
      "_view_module": "@jupyter-widgets/controls",
      "_view_module_version": "1.5.0",
      "_view_name": "HTMLView",
      "description": "",
      "description_tooltip": null,
      "layout": "IPY_MODEL_082d5dd481a44470a87447ae22b59ea7",
      "placeholder": "​",
      "style": "IPY_MODEL_d9d3fa04f3b4421e9f15f9fb01c4f28d",
      "value": " 100/100 [05:46&lt;00:00,  3.43s/it]"
     }
    },
    "082d5dd481a44470a87447ae22b59ea7": {
     "model_module": "@jupyter-widgets/base",
     "model_module_version": "1.2.0",
     "model_name": "LayoutModel",
     "state": {
      "_model_module": "@jupyter-widgets/base",
      "_model_module_version": "1.2.0",
      "_model_name": "LayoutModel",
      "_view_count": null,
      "_view_module": "@jupyter-widgets/base",
      "_view_module_version": "1.2.0",
      "_view_name": "LayoutView",
      "align_content": null,
      "align_items": null,
      "align_self": null,
      "border": null,
      "bottom": null,
      "display": null,
      "flex": null,
      "flex_flow": null,
      "grid_area": null,
      "grid_auto_columns": null,
      "grid_auto_flow": null,
      "grid_auto_rows": null,
      "grid_column": null,
      "grid_gap": null,
      "grid_row": null,
      "grid_template_areas": null,
      "grid_template_columns": null,
      "grid_template_rows": null,
      "height": null,
      "justify_content": null,
      "justify_items": null,
      "left": null,
      "margin": null,
      "max_height": null,
      "max_width": null,
      "min_height": null,
      "min_width": null,
      "object_fit": null,
      "object_position": null,
      "order": null,
      "overflow": null,
      "overflow_x": null,
      "overflow_y": null,
      "padding": null,
      "right": null,
      "top": null,
      "visibility": null,
      "width": null
     }
    },
    "0a107fce7125441b94a1384ccc53294e": {
     "model_module": "@jupyter-widgets/base",
     "model_module_version": "1.2.0",
     "model_name": "LayoutModel",
     "state": {
      "_model_module": "@jupyter-widgets/base",
      "_model_module_version": "1.2.0",
      "_model_name": "LayoutModel",
      "_view_count": null,
      "_view_module": "@jupyter-widgets/base",
      "_view_module_version": "1.2.0",
      "_view_name": "LayoutView",
      "align_content": null,
      "align_items": null,
      "align_self": null,
      "border": null,
      "bottom": null,
      "display": null,
      "flex": null,
      "flex_flow": null,
      "grid_area": null,
      "grid_auto_columns": null,
      "grid_auto_flow": null,
      "grid_auto_rows": null,
      "grid_column": null,
      "grid_gap": null,
      "grid_row": null,
      "grid_template_areas": null,
      "grid_template_columns": null,
      "grid_template_rows": null,
      "height": null,
      "justify_content": null,
      "justify_items": null,
      "left": null,
      "margin": null,
      "max_height": null,
      "max_width": null,
      "min_height": null,
      "min_width": null,
      "object_fit": null,
      "object_position": null,
      "order": null,
      "overflow": null,
      "overflow_x": null,
      "overflow_y": null,
      "padding": null,
      "right": null,
      "top": null,
      "visibility": null,
      "width": null
     }
    },
    "0ce79c786f644cf5b8052ad8caf68b30": {
     "model_module": "@jupyter-widgets/controls",
     "model_module_version": "1.5.0",
     "model_name": "FloatProgressModel",
     "state": {
      "_dom_classes": [],
      "_model_module": "@jupyter-widgets/controls",
      "_model_module_version": "1.5.0",
      "_model_name": "FloatProgressModel",
      "_view_count": null,
      "_view_module": "@jupyter-widgets/controls",
      "_view_module_version": "1.5.0",
      "_view_name": "ProgressView",
      "bar_style": "success",
      "description": "",
      "description_tooltip": null,
      "layout": "IPY_MODEL_f5d6d04cb083440ab0d5d200eb90edda",
      "max": 100,
      "min": 0,
      "orientation": "horizontal",
      "style": "IPY_MODEL_2d65545562bd4271a83d2be918d96224",
      "value": 100
     }
    },
    "0d6fbc7fd8064eb2a1ca006c598d8061": {
     "model_module": "@jupyter-widgets/base",
     "model_module_version": "1.2.0",
     "model_name": "LayoutModel",
     "state": {
      "_model_module": "@jupyter-widgets/base",
      "_model_module_version": "1.2.0",
      "_model_name": "LayoutModel",
      "_view_count": null,
      "_view_module": "@jupyter-widgets/base",
      "_view_module_version": "1.2.0",
      "_view_name": "LayoutView",
      "align_content": null,
      "align_items": null,
      "align_self": null,
      "border": null,
      "bottom": null,
      "display": null,
      "flex": null,
      "flex_flow": null,
      "grid_area": null,
      "grid_auto_columns": null,
      "grid_auto_flow": null,
      "grid_auto_rows": null,
      "grid_column": null,
      "grid_gap": null,
      "grid_row": null,
      "grid_template_areas": null,
      "grid_template_columns": null,
      "grid_template_rows": null,
      "height": null,
      "justify_content": null,
      "justify_items": null,
      "left": null,
      "margin": null,
      "max_height": null,
      "max_width": null,
      "min_height": null,
      "min_width": null,
      "object_fit": null,
      "object_position": null,
      "order": null,
      "overflow": null,
      "overflow_x": null,
      "overflow_y": null,
      "padding": null,
      "right": null,
      "top": null,
      "visibility": null,
      "width": null
     }
    },
    "0f22733883184d9da98a2ea506214b36": {
     "model_module": "@jupyter-widgets/base",
     "model_module_version": "1.2.0",
     "model_name": "LayoutModel",
     "state": {
      "_model_module": "@jupyter-widgets/base",
      "_model_module_version": "1.2.0",
      "_model_name": "LayoutModel",
      "_view_count": null,
      "_view_module": "@jupyter-widgets/base",
      "_view_module_version": "1.2.0",
      "_view_name": "LayoutView",
      "align_content": null,
      "align_items": null,
      "align_self": null,
      "border": null,
      "bottom": null,
      "display": null,
      "flex": null,
      "flex_flow": null,
      "grid_area": null,
      "grid_auto_columns": null,
      "grid_auto_flow": null,
      "grid_auto_rows": null,
      "grid_column": null,
      "grid_gap": null,
      "grid_row": null,
      "grid_template_areas": null,
      "grid_template_columns": null,
      "grid_template_rows": null,
      "height": null,
      "justify_content": null,
      "justify_items": null,
      "left": null,
      "margin": null,
      "max_height": null,
      "max_width": null,
      "min_height": null,
      "min_width": null,
      "object_fit": null,
      "object_position": null,
      "order": null,
      "overflow": null,
      "overflow_x": null,
      "overflow_y": null,
      "padding": null,
      "right": null,
      "top": null,
      "visibility": null,
      "width": null
     }
    },
    "1102c0f2b59c4dd69df11f56cc9433f3": {
     "model_module": "@jupyter-widgets/controls",
     "model_module_version": "1.5.0",
     "model_name": "FloatProgressModel",
     "state": {
      "_dom_classes": [],
      "_model_module": "@jupyter-widgets/controls",
      "_model_module_version": "1.5.0",
      "_model_name": "FloatProgressModel",
      "_view_count": null,
      "_view_module": "@jupyter-widgets/controls",
      "_view_module_version": "1.5.0",
      "_view_name": "ProgressView",
      "bar_style": "success",
      "description": "",
      "description_tooltip": null,
      "layout": "IPY_MODEL_e98f426262b74367ba89432c58d93892",
      "max": 100,
      "min": 0,
      "orientation": "horizontal",
      "style": "IPY_MODEL_26d3c0b3dbb94856bf7a1f9629d9137d",
      "value": 100
     }
    },
    "1a4c64b06fdc4c98aeba6dded3e3cffb": {
     "model_module": "@jupyter-widgets/base",
     "model_module_version": "1.2.0",
     "model_name": "LayoutModel",
     "state": {
      "_model_module": "@jupyter-widgets/base",
      "_model_module_version": "1.2.0",
      "_model_name": "LayoutModel",
      "_view_count": null,
      "_view_module": "@jupyter-widgets/base",
      "_view_module_version": "1.2.0",
      "_view_name": "LayoutView",
      "align_content": null,
      "align_items": null,
      "align_self": null,
      "border": null,
      "bottom": null,
      "display": null,
      "flex": null,
      "flex_flow": null,
      "grid_area": null,
      "grid_auto_columns": null,
      "grid_auto_flow": null,
      "grid_auto_rows": null,
      "grid_column": null,
      "grid_gap": null,
      "grid_row": null,
      "grid_template_areas": null,
      "grid_template_columns": null,
      "grid_template_rows": null,
      "height": null,
      "justify_content": null,
      "justify_items": null,
      "left": null,
      "margin": null,
      "max_height": null,
      "max_width": null,
      "min_height": null,
      "min_width": null,
      "object_fit": null,
      "object_position": null,
      "order": null,
      "overflow": null,
      "overflow_x": null,
      "overflow_y": null,
      "padding": null,
      "right": null,
      "top": null,
      "visibility": null,
      "width": null
     }
    },
    "1b2744a8c651411bbe909b774d6709bb": {
     "model_module": "@jupyter-widgets/controls",
     "model_module_version": "1.5.0",
     "model_name": "HTMLModel",
     "state": {
      "_dom_classes": [],
      "_model_module": "@jupyter-widgets/controls",
      "_model_module_version": "1.5.0",
      "_model_name": "HTMLModel",
      "_view_count": null,
      "_view_module": "@jupyter-widgets/controls",
      "_view_module_version": "1.5.0",
      "_view_name": "HTMLView",
      "description": "",
      "description_tooltip": null,
      "layout": "IPY_MODEL_9ef14cb93fa947adb402be0a49e65aca",
      "placeholder": "​",
      "style": "IPY_MODEL_3f524778b29d486ea50e3807298ab623",
      "value": "epoch: 100%"
     }
    },
    "20205b0c75ed4a5ca204dd8bd58a9a94": {
     "model_module": "@jupyter-widgets/controls",
     "model_module_version": "1.5.0",
     "model_name": "DescriptionStyleModel",
     "state": {
      "_model_module": "@jupyter-widgets/controls",
      "_model_module_version": "1.5.0",
      "_model_name": "DescriptionStyleModel",
      "_view_count": null,
      "_view_module": "@jupyter-widgets/base",
      "_view_module_version": "1.2.0",
      "_view_name": "StyleView",
      "description_width": ""
     }
    },
    "25791a04b4e04fd7891978fc51c8110a": {
     "model_module": "@jupyter-widgets/base",
     "model_module_version": "1.2.0",
     "model_name": "LayoutModel",
     "state": {
      "_model_module": "@jupyter-widgets/base",
      "_model_module_version": "1.2.0",
      "_model_name": "LayoutModel",
      "_view_count": null,
      "_view_module": "@jupyter-widgets/base",
      "_view_module_version": "1.2.0",
      "_view_name": "LayoutView",
      "align_content": null,
      "align_items": null,
      "align_self": null,
      "border": null,
      "bottom": null,
      "display": null,
      "flex": null,
      "flex_flow": null,
      "grid_area": null,
      "grid_auto_columns": null,
      "grid_auto_flow": null,
      "grid_auto_rows": null,
      "grid_column": null,
      "grid_gap": null,
      "grid_row": null,
      "grid_template_areas": null,
      "grid_template_columns": null,
      "grid_template_rows": null,
      "height": null,
      "justify_content": null,
      "justify_items": null,
      "left": null,
      "margin": null,
      "max_height": null,
      "max_width": null,
      "min_height": null,
      "min_width": null,
      "object_fit": null,
      "object_position": null,
      "order": null,
      "overflow": null,
      "overflow_x": null,
      "overflow_y": null,
      "padding": null,
      "right": null,
      "top": null,
      "visibility": null,
      "width": null
     }
    },
    "26d3c0b3dbb94856bf7a1f9629d9137d": {
     "model_module": "@jupyter-widgets/controls",
     "model_module_version": "1.5.0",
     "model_name": "ProgressStyleModel",
     "state": {
      "_model_module": "@jupyter-widgets/controls",
      "_model_module_version": "1.5.0",
      "_model_name": "ProgressStyleModel",
      "_view_count": null,
      "_view_module": "@jupyter-widgets/base",
      "_view_module_version": "1.2.0",
      "_view_name": "StyleView",
      "bar_color": null,
      "description_width": ""
     }
    },
    "2cfb65e0c07e48acbc1555c8bf6e0deb": {
     "model_module": "@jupyter-widgets/controls",
     "model_module_version": "1.5.0",
     "model_name": "DescriptionStyleModel",
     "state": {
      "_model_module": "@jupyter-widgets/controls",
      "_model_module_version": "1.5.0",
      "_model_name": "DescriptionStyleModel",
      "_view_count": null,
      "_view_module": "@jupyter-widgets/base",
      "_view_module_version": "1.2.0",
      "_view_name": "StyleView",
      "description_width": ""
     }
    },
    "2d65545562bd4271a83d2be918d96224": {
     "model_module": "@jupyter-widgets/controls",
     "model_module_version": "1.5.0",
     "model_name": "ProgressStyleModel",
     "state": {
      "_model_module": "@jupyter-widgets/controls",
      "_model_module_version": "1.5.0",
      "_model_name": "ProgressStyleModel",
      "_view_count": null,
      "_view_module": "@jupyter-widgets/base",
      "_view_module_version": "1.2.0",
      "_view_name": "StyleView",
      "bar_color": null,
      "description_width": ""
     }
    },
    "2d8ed6ede08341b59d163ad568fe9bc7": {
     "model_module": "@jupyter-widgets/controls",
     "model_module_version": "1.5.0",
     "model_name": "HTMLModel",
     "state": {
      "_dom_classes": [],
      "_model_module": "@jupyter-widgets/controls",
      "_model_module_version": "1.5.0",
      "_model_name": "HTMLModel",
      "_view_count": null,
      "_view_module": "@jupyter-widgets/controls",
      "_view_module_version": "1.5.0",
      "_view_name": "HTMLView",
      "description": "",
      "description_tooltip": null,
      "layout": "IPY_MODEL_db15699f51544561a0688d1878a40e90",
      "placeholder": "​",
      "style": "IPY_MODEL_36c9ec7c61e142d18547f491cb327b22",
      "value": "epoch: 100%"
     }
    },
    "34a7367d1e5541dca1665b89d3acec63": {
     "model_module": "@jupyter-widgets/controls",
     "model_module_version": "1.5.0",
     "model_name": "HTMLModel",
     "state": {
      "_dom_classes": [],
      "_model_module": "@jupyter-widgets/controls",
      "_model_module_version": "1.5.0",
      "_model_name": "HTMLModel",
      "_view_count": null,
      "_view_module": "@jupyter-widgets/controls",
      "_view_module_version": "1.5.0",
      "_view_name": "HTMLView",
      "description": "",
      "description_tooltip": null,
      "layout": "IPY_MODEL_0a107fce7125441b94a1384ccc53294e",
      "placeholder": "​",
      "style": "IPY_MODEL_2cfb65e0c07e48acbc1555c8bf6e0deb",
      "value": " 100/100 [06:52&lt;00:00,  3.98s/it]"
     }
    },
    "36c9ec7c61e142d18547f491cb327b22": {
     "model_module": "@jupyter-widgets/controls",
     "model_module_version": "1.5.0",
     "model_name": "DescriptionStyleModel",
     "state": {
      "_model_module": "@jupyter-widgets/controls",
      "_model_module_version": "1.5.0",
      "_model_name": "DescriptionStyleModel",
      "_view_count": null,
      "_view_module": "@jupyter-widgets/base",
      "_view_module_version": "1.2.0",
      "_view_name": "StyleView",
      "description_width": ""
     }
    },
    "395eb959a7c040f98d90856f753a0256": {
     "model_module": "@jupyter-widgets/controls",
     "model_module_version": "1.5.0",
     "model_name": "DescriptionStyleModel",
     "state": {
      "_model_module": "@jupyter-widgets/controls",
      "_model_module_version": "1.5.0",
      "_model_name": "DescriptionStyleModel",
      "_view_count": null,
      "_view_module": "@jupyter-widgets/base",
      "_view_module_version": "1.2.0",
      "_view_name": "StyleView",
      "description_width": ""
     }
    },
    "3a454948f3114ab2b8f88d4d4fe0a7e2": {
     "model_module": "@jupyter-widgets/base",
     "model_module_version": "1.2.0",
     "model_name": "LayoutModel",
     "state": {
      "_model_module": "@jupyter-widgets/base",
      "_model_module_version": "1.2.0",
      "_model_name": "LayoutModel",
      "_view_count": null,
      "_view_module": "@jupyter-widgets/base",
      "_view_module_version": "1.2.0",
      "_view_name": "LayoutView",
      "align_content": null,
      "align_items": null,
      "align_self": null,
      "border": null,
      "bottom": null,
      "display": null,
      "flex": null,
      "flex_flow": null,
      "grid_area": null,
      "grid_auto_columns": null,
      "grid_auto_flow": null,
      "grid_auto_rows": null,
      "grid_column": null,
      "grid_gap": null,
      "grid_row": null,
      "grid_template_areas": null,
      "grid_template_columns": null,
      "grid_template_rows": null,
      "height": null,
      "justify_content": null,
      "justify_items": null,
      "left": null,
      "margin": null,
      "max_height": null,
      "max_width": null,
      "min_height": null,
      "min_width": null,
      "object_fit": null,
      "object_position": null,
      "order": null,
      "overflow": null,
      "overflow_x": null,
      "overflow_y": null,
      "padding": null,
      "right": null,
      "top": null,
      "visibility": null,
      "width": null
     }
    },
    "3f524778b29d486ea50e3807298ab623": {
     "model_module": "@jupyter-widgets/controls",
     "model_module_version": "1.5.0",
     "model_name": "DescriptionStyleModel",
     "state": {
      "_model_module": "@jupyter-widgets/controls",
      "_model_module_version": "1.5.0",
      "_model_name": "DescriptionStyleModel",
      "_view_count": null,
      "_view_module": "@jupyter-widgets/base",
      "_view_module_version": "1.2.0",
      "_view_name": "StyleView",
      "description_width": ""
     }
    },
    "4c93896636b144fda6ceed4e0c8b602d": {
     "model_module": "@jupyter-widgets/base",
     "model_module_version": "1.2.0",
     "model_name": "LayoutModel",
     "state": {
      "_model_module": "@jupyter-widgets/base",
      "_model_module_version": "1.2.0",
      "_model_name": "LayoutModel",
      "_view_count": null,
      "_view_module": "@jupyter-widgets/base",
      "_view_module_version": "1.2.0",
      "_view_name": "LayoutView",
      "align_content": null,
      "align_items": null,
      "align_self": null,
      "border": null,
      "bottom": null,
      "display": null,
      "flex": null,
      "flex_flow": null,
      "grid_area": null,
      "grid_auto_columns": null,
      "grid_auto_flow": null,
      "grid_auto_rows": null,
      "grid_column": null,
      "grid_gap": null,
      "grid_row": null,
      "grid_template_areas": null,
      "grid_template_columns": null,
      "grid_template_rows": null,
      "height": null,
      "justify_content": null,
      "justify_items": null,
      "left": null,
      "margin": null,
      "max_height": null,
      "max_width": null,
      "min_height": null,
      "min_width": null,
      "object_fit": null,
      "object_position": null,
      "order": null,
      "overflow": null,
      "overflow_x": null,
      "overflow_y": null,
      "padding": null,
      "right": null,
      "top": null,
      "visibility": null,
      "width": null
     }
    },
    "4e1a06c3e4334f4e8ad0365dc16229f9": {
     "model_module": "@jupyter-widgets/base",
     "model_module_version": "1.2.0",
     "model_name": "LayoutModel",
     "state": {
      "_model_module": "@jupyter-widgets/base",
      "_model_module_version": "1.2.0",
      "_model_name": "LayoutModel",
      "_view_count": null,
      "_view_module": "@jupyter-widgets/base",
      "_view_module_version": "1.2.0",
      "_view_name": "LayoutView",
      "align_content": null,
      "align_items": null,
      "align_self": null,
      "border": null,
      "bottom": null,
      "display": null,
      "flex": null,
      "flex_flow": null,
      "grid_area": null,
      "grid_auto_columns": null,
      "grid_auto_flow": null,
      "grid_auto_rows": null,
      "grid_column": null,
      "grid_gap": null,
      "grid_row": null,
      "grid_template_areas": null,
      "grid_template_columns": null,
      "grid_template_rows": null,
      "height": null,
      "justify_content": null,
      "justify_items": null,
      "left": null,
      "margin": null,
      "max_height": null,
      "max_width": null,
      "min_height": null,
      "min_width": null,
      "object_fit": null,
      "object_position": null,
      "order": null,
      "overflow": null,
      "overflow_x": null,
      "overflow_y": null,
      "padding": null,
      "right": null,
      "top": null,
      "visibility": null,
      "width": null
     }
    },
    "53d9a1c4a1c74de592f1ec08be60e8e3": {
     "model_module": "@jupyter-widgets/controls",
     "model_module_version": "1.5.0",
     "model_name": "HBoxModel",
     "state": {
      "_dom_classes": [],
      "_model_module": "@jupyter-widgets/controls",
      "_model_module_version": "1.5.0",
      "_model_name": "HBoxModel",
      "_view_count": null,
      "_view_module": "@jupyter-widgets/controls",
      "_view_module_version": "1.5.0",
      "_view_name": "HBoxView",
      "box_style": "",
      "children": [
       "IPY_MODEL_1b2744a8c651411bbe909b774d6709bb",
       "IPY_MODEL_0ce79c786f644cf5b8052ad8caf68b30",
       "IPY_MODEL_a053bb830e1d4649b3e8f03829dcae92"
      ],
      "layout": "IPY_MODEL_3a454948f3114ab2b8f88d4d4fe0a7e2"
     }
    },
    "596b54a373084d09b64ae251b1d1f54e": {
     "model_module": "@jupyter-widgets/base",
     "model_module_version": "1.2.0",
     "model_name": "LayoutModel",
     "state": {
      "_model_module": "@jupyter-widgets/base",
      "_model_module_version": "1.2.0",
      "_model_name": "LayoutModel",
      "_view_count": null,
      "_view_module": "@jupyter-widgets/base",
      "_view_module_version": "1.2.0",
      "_view_name": "LayoutView",
      "align_content": null,
      "align_items": null,
      "align_self": null,
      "border": null,
      "bottom": null,
      "display": null,
      "flex": null,
      "flex_flow": null,
      "grid_area": null,
      "grid_auto_columns": null,
      "grid_auto_flow": null,
      "grid_auto_rows": null,
      "grid_column": null,
      "grid_gap": null,
      "grid_row": null,
      "grid_template_areas": null,
      "grid_template_columns": null,
      "grid_template_rows": null,
      "height": null,
      "justify_content": null,
      "justify_items": null,
      "left": null,
      "margin": null,
      "max_height": null,
      "max_width": null,
      "min_height": null,
      "min_width": null,
      "object_fit": null,
      "object_position": null,
      "order": null,
      "overflow": null,
      "overflow_x": null,
      "overflow_y": null,
      "padding": null,
      "right": null,
      "top": null,
      "visibility": null,
      "width": null
     }
    },
    "5c9aad2db7fb4c6c81d5e61aaa95bec6": {
     "model_module": "@jupyter-widgets/controls",
     "model_module_version": "1.5.0",
     "model_name": "HTMLModel",
     "state": {
      "_dom_classes": [],
      "_model_module": "@jupyter-widgets/controls",
      "_model_module_version": "1.5.0",
      "_model_name": "HTMLModel",
      "_view_count": null,
      "_view_module": "@jupyter-widgets/controls",
      "_view_module_version": "1.5.0",
      "_view_name": "HTMLView",
      "description": "",
      "description_tooltip": null,
      "layout": "IPY_MODEL_4c93896636b144fda6ceed4e0c8b602d",
      "placeholder": "​",
      "style": "IPY_MODEL_20205b0c75ed4a5ca204dd8bd58a9a94",
      "value": "epoch: 100%"
     }
    },
    "5ddc39e8647440ec8c06c3c6d3ece0ab": {
     "model_module": "@jupyter-widgets/base",
     "model_module_version": "1.2.0",
     "model_name": "LayoutModel",
     "state": {
      "_model_module": "@jupyter-widgets/base",
      "_model_module_version": "1.2.0",
      "_model_name": "LayoutModel",
      "_view_count": null,
      "_view_module": "@jupyter-widgets/base",
      "_view_module_version": "1.2.0",
      "_view_name": "LayoutView",
      "align_content": null,
      "align_items": null,
      "align_self": null,
      "border": null,
      "bottom": null,
      "display": null,
      "flex": null,
      "flex_flow": null,
      "grid_area": null,
      "grid_auto_columns": null,
      "grid_auto_flow": null,
      "grid_auto_rows": null,
      "grid_column": null,
      "grid_gap": null,
      "grid_row": null,
      "grid_template_areas": null,
      "grid_template_columns": null,
      "grid_template_rows": null,
      "height": null,
      "justify_content": null,
      "justify_items": null,
      "left": null,
      "margin": null,
      "max_height": null,
      "max_width": null,
      "min_height": null,
      "min_width": null,
      "object_fit": null,
      "object_position": null,
      "order": null,
      "overflow": null,
      "overflow_x": null,
      "overflow_y": null,
      "padding": null,
      "right": null,
      "top": null,
      "visibility": null,
      "width": null
     }
    },
    "5f4c252177b546f5998d9b619203ea52": {
     "model_module": "@jupyter-widgets/base",
     "model_module_version": "1.2.0",
     "model_name": "LayoutModel",
     "state": {
      "_model_module": "@jupyter-widgets/base",
      "_model_module_version": "1.2.0",
      "_model_name": "LayoutModel",
      "_view_count": null,
      "_view_module": "@jupyter-widgets/base",
      "_view_module_version": "1.2.0",
      "_view_name": "LayoutView",
      "align_content": null,
      "align_items": null,
      "align_self": null,
      "border": null,
      "bottom": null,
      "display": null,
      "flex": null,
      "flex_flow": null,
      "grid_area": null,
      "grid_auto_columns": null,
      "grid_auto_flow": null,
      "grid_auto_rows": null,
      "grid_column": null,
      "grid_gap": null,
      "grid_row": null,
      "grid_template_areas": null,
      "grid_template_columns": null,
      "grid_template_rows": null,
      "height": null,
      "justify_content": null,
      "justify_items": null,
      "left": null,
      "margin": null,
      "max_height": null,
      "max_width": null,
      "min_height": null,
      "min_width": null,
      "object_fit": null,
      "object_position": null,
      "order": null,
      "overflow": null,
      "overflow_x": null,
      "overflow_y": null,
      "padding": null,
      "right": null,
      "top": null,
      "visibility": null,
      "width": null
     }
    },
    "636ad125fd804dd88ff67d0243e62464": {
     "model_module": "@jupyter-widgets/base",
     "model_module_version": "1.2.0",
     "model_name": "LayoutModel",
     "state": {
      "_model_module": "@jupyter-widgets/base",
      "_model_module_version": "1.2.0",
      "_model_name": "LayoutModel",
      "_view_count": null,
      "_view_module": "@jupyter-widgets/base",
      "_view_module_version": "1.2.0",
      "_view_name": "LayoutView",
      "align_content": null,
      "align_items": null,
      "align_self": null,
      "border": null,
      "bottom": null,
      "display": null,
      "flex": null,
      "flex_flow": null,
      "grid_area": null,
      "grid_auto_columns": null,
      "grid_auto_flow": null,
      "grid_auto_rows": null,
      "grid_column": null,
      "grid_gap": null,
      "grid_row": null,
      "grid_template_areas": null,
      "grid_template_columns": null,
      "grid_template_rows": null,
      "height": null,
      "justify_content": null,
      "justify_items": null,
      "left": null,
      "margin": null,
      "max_height": null,
      "max_width": null,
      "min_height": null,
      "min_width": null,
      "object_fit": null,
      "object_position": null,
      "order": null,
      "overflow": null,
      "overflow_x": null,
      "overflow_y": null,
      "padding": null,
      "right": null,
      "top": null,
      "visibility": null,
      "width": null
     }
    },
    "66d49ae1e04d479eb8fa4c56fea00d97": {
     "model_module": "@jupyter-widgets/base",
     "model_module_version": "1.2.0",
     "model_name": "LayoutModel",
     "state": {
      "_model_module": "@jupyter-widgets/base",
      "_model_module_version": "1.2.0",
      "_model_name": "LayoutModel",
      "_view_count": null,
      "_view_module": "@jupyter-widgets/base",
      "_view_module_version": "1.2.0",
      "_view_name": "LayoutView",
      "align_content": null,
      "align_items": null,
      "align_self": null,
      "border": null,
      "bottom": null,
      "display": null,
      "flex": null,
      "flex_flow": null,
      "grid_area": null,
      "grid_auto_columns": null,
      "grid_auto_flow": null,
      "grid_auto_rows": null,
      "grid_column": null,
      "grid_gap": null,
      "grid_row": null,
      "grid_template_areas": null,
      "grid_template_columns": null,
      "grid_template_rows": null,
      "height": null,
      "justify_content": null,
      "justify_items": null,
      "left": null,
      "margin": null,
      "max_height": null,
      "max_width": null,
      "min_height": null,
      "min_width": null,
      "object_fit": null,
      "object_position": null,
      "order": null,
      "overflow": null,
      "overflow_x": null,
      "overflow_y": null,
      "padding": null,
      "right": null,
      "top": null,
      "visibility": null,
      "width": null
     }
    },
    "6c2608a2f06545eca14cc820e630aaa8": {
     "model_module": "@jupyter-widgets/base",
     "model_module_version": "1.2.0",
     "model_name": "LayoutModel",
     "state": {
      "_model_module": "@jupyter-widgets/base",
      "_model_module_version": "1.2.0",
      "_model_name": "LayoutModel",
      "_view_count": null,
      "_view_module": "@jupyter-widgets/base",
      "_view_module_version": "1.2.0",
      "_view_name": "LayoutView",
      "align_content": null,
      "align_items": null,
      "align_self": null,
      "border": null,
      "bottom": null,
      "display": null,
      "flex": null,
      "flex_flow": null,
      "grid_area": null,
      "grid_auto_columns": null,
      "grid_auto_flow": null,
      "grid_auto_rows": null,
      "grid_column": null,
      "grid_gap": null,
      "grid_row": null,
      "grid_template_areas": null,
      "grid_template_columns": null,
      "grid_template_rows": null,
      "height": null,
      "justify_content": null,
      "justify_items": null,
      "left": null,
      "margin": null,
      "max_height": null,
      "max_width": null,
      "min_height": null,
      "min_width": null,
      "object_fit": null,
      "object_position": null,
      "order": null,
      "overflow": null,
      "overflow_x": null,
      "overflow_y": null,
      "padding": null,
      "right": null,
      "top": null,
      "visibility": null,
      "width": null
     }
    },
    "7978e069d5fb4851b9cee48e9cec1792": {
     "model_module": "@jupyter-widgets/controls",
     "model_module_version": "1.5.0",
     "model_name": "FloatProgressModel",
     "state": {
      "_dom_classes": [],
      "_model_module": "@jupyter-widgets/controls",
      "_model_module_version": "1.5.0",
      "_model_name": "FloatProgressModel",
      "_view_count": null,
      "_view_module": "@jupyter-widgets/controls",
      "_view_module_version": "1.5.0",
      "_view_name": "ProgressView",
      "bar_style": "success",
      "description": "",
      "description_tooltip": null,
      "layout": "IPY_MODEL_25791a04b4e04fd7891978fc51c8110a",
      "max": 100,
      "min": 0,
      "orientation": "horizontal",
      "style": "IPY_MODEL_dfb4d51d4f6c41bfab075cee5aa8c851",
      "value": 100
     }
    },
    "79859ecf11b14daea956cbc089b95670": {
     "model_module": "@jupyter-widgets/controls",
     "model_module_version": "1.5.0",
     "model_name": "HBoxModel",
     "state": {
      "_dom_classes": [],
      "_model_module": "@jupyter-widgets/controls",
      "_model_module_version": "1.5.0",
      "_model_name": "HBoxModel",
      "_view_count": null,
      "_view_module": "@jupyter-widgets/controls",
      "_view_module_version": "1.5.0",
      "_view_name": "HBoxView",
      "box_style": "",
      "children": [
       "IPY_MODEL_5c9aad2db7fb4c6c81d5e61aaa95bec6",
       "IPY_MODEL_989cd1eaa24e4a089c690ab1ea07adb3",
       "IPY_MODEL_34a7367d1e5541dca1665b89d3acec63"
      ],
      "layout": "IPY_MODEL_636ad125fd804dd88ff67d0243e62464"
     }
    },
    "7dace837e39448ebaa906c76eb9ee5a1": {
     "model_module": "@jupyter-widgets/controls",
     "model_module_version": "1.5.0",
     "model_name": "DescriptionStyleModel",
     "state": {
      "_model_module": "@jupyter-widgets/controls",
      "_model_module_version": "1.5.0",
      "_model_name": "DescriptionStyleModel",
      "_view_count": null,
      "_view_module": "@jupyter-widgets/base",
      "_view_module_version": "1.2.0",
      "_view_name": "StyleView",
      "description_width": ""
     }
    },
    "7f646e9fb64e471cbd0ec26e194fd5a1": {
     "model_module": "@jupyter-widgets/controls",
     "model_module_version": "1.5.0",
     "model_name": "ProgressStyleModel",
     "state": {
      "_model_module": "@jupyter-widgets/controls",
      "_model_module_version": "1.5.0",
      "_model_name": "ProgressStyleModel",
      "_view_count": null,
      "_view_module": "@jupyter-widgets/base",
      "_view_module_version": "1.2.0",
      "_view_name": "StyleView",
      "bar_color": null,
      "description_width": ""
     }
    },
    "93a8b2ba6e6a4f82b06dfd31d65b211e": {
     "model_module": "@jupyter-widgets/base",
     "model_module_version": "1.2.0",
     "model_name": "LayoutModel",
     "state": {
      "_model_module": "@jupyter-widgets/base",
      "_model_module_version": "1.2.0",
      "_model_name": "LayoutModel",
      "_view_count": null,
      "_view_module": "@jupyter-widgets/base",
      "_view_module_version": "1.2.0",
      "_view_name": "LayoutView",
      "align_content": null,
      "align_items": null,
      "align_self": null,
      "border": null,
      "bottom": null,
      "display": null,
      "flex": null,
      "flex_flow": null,
      "grid_area": null,
      "grid_auto_columns": null,
      "grid_auto_flow": null,
      "grid_auto_rows": null,
      "grid_column": null,
      "grid_gap": null,
      "grid_row": null,
      "grid_template_areas": null,
      "grid_template_columns": null,
      "grid_template_rows": null,
      "height": null,
      "justify_content": null,
      "justify_items": null,
      "left": null,
      "margin": null,
      "max_height": null,
      "max_width": null,
      "min_height": null,
      "min_width": null,
      "object_fit": null,
      "object_position": null,
      "order": null,
      "overflow": null,
      "overflow_x": null,
      "overflow_y": null,
      "padding": null,
      "right": null,
      "top": null,
      "visibility": null,
      "width": null
     }
    },
    "989cd1eaa24e4a089c690ab1ea07adb3": {
     "model_module": "@jupyter-widgets/controls",
     "model_module_version": "1.5.0",
     "model_name": "FloatProgressModel",
     "state": {
      "_dom_classes": [],
      "_model_module": "@jupyter-widgets/controls",
      "_model_module_version": "1.5.0",
      "_model_name": "FloatProgressModel",
      "_view_count": null,
      "_view_module": "@jupyter-widgets/controls",
      "_view_module_version": "1.5.0",
      "_view_name": "ProgressView",
      "bar_style": "success",
      "description": "",
      "description_tooltip": null,
      "layout": "IPY_MODEL_f9b60d14e7b447a5aef4c8e493c1333b",
      "max": 100,
      "min": 0,
      "orientation": "horizontal",
      "style": "IPY_MODEL_cebfb0be268d494682d83489d4627842",
      "value": 100
     }
    },
    "9aee424cd03d457fb9eb81790f1ba0ba": {
     "model_module": "@jupyter-widgets/controls",
     "model_module_version": "1.5.0",
     "model_name": "DescriptionStyleModel",
     "state": {
      "_model_module": "@jupyter-widgets/controls",
      "_model_module_version": "1.5.0",
      "_model_name": "DescriptionStyleModel",
      "_view_count": null,
      "_view_module": "@jupyter-widgets/base",
      "_view_module_version": "1.2.0",
      "_view_name": "StyleView",
      "description_width": ""
     }
    },
    "9c50c67052904f65a2157e62ec66e7d6": {
     "model_module": "@jupyter-widgets/base",
     "model_module_version": "1.2.0",
     "model_name": "LayoutModel",
     "state": {
      "_model_module": "@jupyter-widgets/base",
      "_model_module_version": "1.2.0",
      "_model_name": "LayoutModel",
      "_view_count": null,
      "_view_module": "@jupyter-widgets/base",
      "_view_module_version": "1.2.0",
      "_view_name": "LayoutView",
      "align_content": null,
      "align_items": null,
      "align_self": null,
      "border": null,
      "bottom": null,
      "display": null,
      "flex": null,
      "flex_flow": null,
      "grid_area": null,
      "grid_auto_columns": null,
      "grid_auto_flow": null,
      "grid_auto_rows": null,
      "grid_column": null,
      "grid_gap": null,
      "grid_row": null,
      "grid_template_areas": null,
      "grid_template_columns": null,
      "grid_template_rows": null,
      "height": null,
      "justify_content": null,
      "justify_items": null,
      "left": null,
      "margin": null,
      "max_height": null,
      "max_width": null,
      "min_height": null,
      "min_width": null,
      "object_fit": null,
      "object_position": null,
      "order": null,
      "overflow": null,
      "overflow_x": null,
      "overflow_y": null,
      "padding": null,
      "right": null,
      "top": null,
      "visibility": null,
      "width": null
     }
    },
    "9ef14cb93fa947adb402be0a49e65aca": {
     "model_module": "@jupyter-widgets/base",
     "model_module_version": "1.2.0",
     "model_name": "LayoutModel",
     "state": {
      "_model_module": "@jupyter-widgets/base",
      "_model_module_version": "1.2.0",
      "_model_name": "LayoutModel",
      "_view_count": null,
      "_view_module": "@jupyter-widgets/base",
      "_view_module_version": "1.2.0",
      "_view_name": "LayoutView",
      "align_content": null,
      "align_items": null,
      "align_self": null,
      "border": null,
      "bottom": null,
      "display": null,
      "flex": null,
      "flex_flow": null,
      "grid_area": null,
      "grid_auto_columns": null,
      "grid_auto_flow": null,
      "grid_auto_rows": null,
      "grid_column": null,
      "grid_gap": null,
      "grid_row": null,
      "grid_template_areas": null,
      "grid_template_columns": null,
      "grid_template_rows": null,
      "height": null,
      "justify_content": null,
      "justify_items": null,
      "left": null,
      "margin": null,
      "max_height": null,
      "max_width": null,
      "min_height": null,
      "min_width": null,
      "object_fit": null,
      "object_position": null,
      "order": null,
      "overflow": null,
      "overflow_x": null,
      "overflow_y": null,
      "padding": null,
      "right": null,
      "top": null,
      "visibility": null,
      "width": null
     }
    },
    "a053bb830e1d4649b3e8f03829dcae92": {
     "model_module": "@jupyter-widgets/controls",
     "model_module_version": "1.5.0",
     "model_name": "HTMLModel",
     "state": {
      "_dom_classes": [],
      "_model_module": "@jupyter-widgets/controls",
      "_model_module_version": "1.5.0",
      "_model_name": "HTMLModel",
      "_view_count": null,
      "_view_module": "@jupyter-widgets/controls",
      "_view_module_version": "1.5.0",
      "_view_name": "HTMLView",
      "description": "",
      "description_tooltip": null,
      "layout": "IPY_MODEL_596b54a373084d09b64ae251b1d1f54e",
      "placeholder": "​",
      "style": "IPY_MODEL_7dace837e39448ebaa906c76eb9ee5a1",
      "value": " 100/100 [06:53&lt;00:00,  3.97s/it]"
     }
    },
    "a6123ada543f47cf872231898ff340eb": {
     "model_module": "@jupyter-widgets/controls",
     "model_module_version": "1.5.0",
     "model_name": "DescriptionStyleModel",
     "state": {
      "_model_module": "@jupyter-widgets/controls",
      "_model_module_version": "1.5.0",
      "_model_name": "DescriptionStyleModel",
      "_view_count": null,
      "_view_module": "@jupyter-widgets/base",
      "_view_module_version": "1.2.0",
      "_view_name": "StyleView",
      "description_width": ""
     }
    },
    "a89e5def93a2416c9c868660ccac1fea": {
     "model_module": "@jupyter-widgets/controls",
     "model_module_version": "1.5.0",
     "model_name": "HTMLModel",
     "state": {
      "_dom_classes": [],
      "_model_module": "@jupyter-widgets/controls",
      "_model_module_version": "1.5.0",
      "_model_name": "HTMLModel",
      "_view_count": null,
      "_view_module": "@jupyter-widgets/controls",
      "_view_module_version": "1.5.0",
      "_view_name": "HTMLView",
      "description": "",
      "description_tooltip": null,
      "layout": "IPY_MODEL_66d49ae1e04d479eb8fa4c56fea00d97",
      "placeholder": "​",
      "style": "IPY_MODEL_a6123ada543f47cf872231898ff340eb",
      "value": "epoch: 100%"
     }
    },
    "aa7c9d4ffdc341ddb0a043ce11af5a7c": {
     "model_module": "@jupyter-widgets/controls",
     "model_module_version": "1.5.0",
     "model_name": "FloatProgressModel",
     "state": {
      "_dom_classes": [],
      "_model_module": "@jupyter-widgets/controls",
      "_model_module_version": "1.5.0",
      "_model_name": "FloatProgressModel",
      "_view_count": null,
      "_view_module": "@jupyter-widgets/controls",
      "_view_module_version": "1.5.0",
      "_view_name": "ProgressView",
      "bar_style": "success",
      "description": "",
      "description_tooltip": null,
      "layout": "IPY_MODEL_6c2608a2f06545eca14cc820e630aaa8",
      "max": 100,
      "min": 0,
      "orientation": "horizontal",
      "style": "IPY_MODEL_7f646e9fb64e471cbd0ec26e194fd5a1",
      "value": 100
     }
    },
    "b1f0204e10894780abc424b26d385fdc": {
     "model_module": "@jupyter-widgets/controls",
     "model_module_version": "1.5.0",
     "model_name": "DescriptionStyleModel",
     "state": {
      "_model_module": "@jupyter-widgets/controls",
      "_model_module_version": "1.5.0",
      "_model_name": "DescriptionStyleModel",
      "_view_count": null,
      "_view_module": "@jupyter-widgets/base",
      "_view_module_version": "1.2.0",
      "_view_name": "StyleView",
      "description_width": ""
     }
    },
    "b47a2f2f409e4b1aa9e9a5e91e36ca9b": {
     "model_module": "@jupyter-widgets/base",
     "model_module_version": "1.2.0",
     "model_name": "LayoutModel",
     "state": {
      "_model_module": "@jupyter-widgets/base",
      "_model_module_version": "1.2.0",
      "_model_name": "LayoutModel",
      "_view_count": null,
      "_view_module": "@jupyter-widgets/base",
      "_view_module_version": "1.2.0",
      "_view_name": "LayoutView",
      "align_content": null,
      "align_items": null,
      "align_self": null,
      "border": null,
      "bottom": null,
      "display": null,
      "flex": null,
      "flex_flow": null,
      "grid_area": null,
      "grid_auto_columns": null,
      "grid_auto_flow": null,
      "grid_auto_rows": null,
      "grid_column": null,
      "grid_gap": null,
      "grid_row": null,
      "grid_template_areas": null,
      "grid_template_columns": null,
      "grid_template_rows": null,
      "height": null,
      "justify_content": null,
      "justify_items": null,
      "left": null,
      "margin": null,
      "max_height": null,
      "max_width": null,
      "min_height": null,
      "min_width": null,
      "object_fit": null,
      "object_position": null,
      "order": null,
      "overflow": null,
      "overflow_x": null,
      "overflow_y": null,
      "padding": null,
      "right": null,
      "top": null,
      "visibility": null,
      "width": null
     }
    },
    "c120c91ab2284d549f019c70f3b8b0e2": {
     "model_module": "@jupyter-widgets/controls",
     "model_module_version": "1.5.0",
     "model_name": "HTMLModel",
     "state": {
      "_dom_classes": [],
      "_model_module": "@jupyter-widgets/controls",
      "_model_module_version": "1.5.0",
      "_model_name": "HTMLModel",
      "_view_count": null,
      "_view_module": "@jupyter-widgets/controls",
      "_view_module_version": "1.5.0",
      "_view_name": "HTMLView",
      "description": "",
      "description_tooltip": null,
      "layout": "IPY_MODEL_b47a2f2f409e4b1aa9e9a5e91e36ca9b",
      "placeholder": "​",
      "style": "IPY_MODEL_395eb959a7c040f98d90856f753a0256",
      "value": " 100/100 [05:40&lt;00:00,  3.31s/it]"
     }
    },
    "c6fc2f2b0f9a4388911cd2b8aba4f13b": {
     "model_module": "@jupyter-widgets/controls",
     "model_module_version": "1.5.0",
     "model_name": "DescriptionStyleModel",
     "state": {
      "_model_module": "@jupyter-widgets/controls",
      "_model_module_version": "1.5.0",
      "_model_name": "DescriptionStyleModel",
      "_view_count": null,
      "_view_module": "@jupyter-widgets/base",
      "_view_module_version": "1.2.0",
      "_view_name": "StyleView",
      "description_width": ""
     }
    },
    "c8cecf364e694711bd89eac602277400": {
     "model_module": "@jupyter-widgets/controls",
     "model_module_version": "1.5.0",
     "model_name": "HBoxModel",
     "state": {
      "_dom_classes": [],
      "_model_module": "@jupyter-widgets/controls",
      "_model_module_version": "1.5.0",
      "_model_name": "HBoxModel",
      "_view_count": null,
      "_view_module": "@jupyter-widgets/controls",
      "_view_module_version": "1.5.0",
      "_view_name": "HBoxView",
      "box_style": "",
      "children": [
       "IPY_MODEL_02a9e10429b940fb836df9d590f8e658",
       "IPY_MODEL_1102c0f2b59c4dd69df11f56cc9433f3",
       "IPY_MODEL_ed69274b7387466aaf0a7bc3181e6a10"
      ],
      "layout": "IPY_MODEL_5f4c252177b546f5998d9b619203ea52"
     }
    },
    "cebfb0be268d494682d83489d4627842": {
     "model_module": "@jupyter-widgets/controls",
     "model_module_version": "1.5.0",
     "model_name": "ProgressStyleModel",
     "state": {
      "_model_module": "@jupyter-widgets/controls",
      "_model_module_version": "1.5.0",
      "_model_name": "ProgressStyleModel",
      "_view_count": null,
      "_view_module": "@jupyter-widgets/base",
      "_view_module_version": "1.2.0",
      "_view_name": "StyleView",
      "bar_color": null,
      "description_width": ""
     }
    },
    "d016f8a372d84a638818e6692d8fc970": {
     "model_module": "@jupyter-widgets/controls",
     "model_module_version": "1.5.0",
     "model_name": "HTMLModel",
     "state": {
      "_dom_classes": [],
      "_model_module": "@jupyter-widgets/controls",
      "_model_module_version": "1.5.0",
      "_model_name": "HTMLModel",
      "_view_count": null,
      "_view_module": "@jupyter-widgets/controls",
      "_view_module_version": "1.5.0",
      "_view_name": "HTMLView",
      "description": "",
      "description_tooltip": null,
      "layout": "IPY_MODEL_dd5cb196cc6440e587858936f41e848f",
      "placeholder": "​",
      "style": "IPY_MODEL_9aee424cd03d457fb9eb81790f1ba0ba",
      "value": "epoch: 100%"
     }
    },
    "d9d3fa04f3b4421e9f15f9fb01c4f28d": {
     "model_module": "@jupyter-widgets/controls",
     "model_module_version": "1.5.0",
     "model_name": "DescriptionStyleModel",
     "state": {
      "_model_module": "@jupyter-widgets/controls",
      "_model_module_version": "1.5.0",
      "_model_name": "DescriptionStyleModel",
      "_view_count": null,
      "_view_module": "@jupyter-widgets/base",
      "_view_module_version": "1.2.0",
      "_view_name": "StyleView",
      "description_width": ""
     }
    },
    "da3944bd85b24ac5a662ecc6d4b99f86": {
     "model_module": "@jupyter-widgets/controls",
     "model_module_version": "1.5.0",
     "model_name": "HTMLModel",
     "state": {
      "_dom_classes": [],
      "_model_module": "@jupyter-widgets/controls",
      "_model_module_version": "1.5.0",
      "_model_name": "HTMLModel",
      "_view_count": null,
      "_view_module": "@jupyter-widgets/controls",
      "_view_module_version": "1.5.0",
      "_view_name": "HTMLView",
      "description": "",
      "description_tooltip": null,
      "layout": "IPY_MODEL_4e1a06c3e4334f4e8ad0365dc16229f9",
      "placeholder": "​",
      "style": "IPY_MODEL_e24db186c5f04219a71fcd05341387f8",
      "value": " 100/100 [06:50&lt;00:00,  4.04s/it]"
     }
    },
    "db15699f51544561a0688d1878a40e90": {
     "model_module": "@jupyter-widgets/base",
     "model_module_version": "1.2.0",
     "model_name": "LayoutModel",
     "state": {
      "_model_module": "@jupyter-widgets/base",
      "_model_module_version": "1.2.0",
      "_model_name": "LayoutModel",
      "_view_count": null,
      "_view_module": "@jupyter-widgets/base",
      "_view_module_version": "1.2.0",
      "_view_name": "LayoutView",
      "align_content": null,
      "align_items": null,
      "align_self": null,
      "border": null,
      "bottom": null,
      "display": null,
      "flex": null,
      "flex_flow": null,
      "grid_area": null,
      "grid_auto_columns": null,
      "grid_auto_flow": null,
      "grid_auto_rows": null,
      "grid_column": null,
      "grid_gap": null,
      "grid_row": null,
      "grid_template_areas": null,
      "grid_template_columns": null,
      "grid_template_rows": null,
      "height": null,
      "justify_content": null,
      "justify_items": null,
      "left": null,
      "margin": null,
      "max_height": null,
      "max_width": null,
      "min_height": null,
      "min_width": null,
      "object_fit": null,
      "object_position": null,
      "order": null,
      "overflow": null,
      "overflow_x": null,
      "overflow_y": null,
      "padding": null,
      "right": null,
      "top": null,
      "visibility": null,
      "width": null
     }
    },
    "dd5cb196cc6440e587858936f41e848f": {
     "model_module": "@jupyter-widgets/base",
     "model_module_version": "1.2.0",
     "model_name": "LayoutModel",
     "state": {
      "_model_module": "@jupyter-widgets/base",
      "_model_module_version": "1.2.0",
      "_model_name": "LayoutModel",
      "_view_count": null,
      "_view_module": "@jupyter-widgets/base",
      "_view_module_version": "1.2.0",
      "_view_name": "LayoutView",
      "align_content": null,
      "align_items": null,
      "align_self": null,
      "border": null,
      "bottom": null,
      "display": null,
      "flex": null,
      "flex_flow": null,
      "grid_area": null,
      "grid_auto_columns": null,
      "grid_auto_flow": null,
      "grid_auto_rows": null,
      "grid_column": null,
      "grid_gap": null,
      "grid_row": null,
      "grid_template_areas": null,
      "grid_template_columns": null,
      "grid_template_rows": null,
      "height": null,
      "justify_content": null,
      "justify_items": null,
      "left": null,
      "margin": null,
      "max_height": null,
      "max_width": null,
      "min_height": null,
      "min_width": null,
      "object_fit": null,
      "object_position": null,
      "order": null,
      "overflow": null,
      "overflow_x": null,
      "overflow_y": null,
      "padding": null,
      "right": null,
      "top": null,
      "visibility": null,
      "width": null
     }
    },
    "dfb4d51d4f6c41bfab075cee5aa8c851": {
     "model_module": "@jupyter-widgets/controls",
     "model_module_version": "1.5.0",
     "model_name": "ProgressStyleModel",
     "state": {
      "_model_module": "@jupyter-widgets/controls",
      "_model_module_version": "1.5.0",
      "_model_name": "ProgressStyleModel",
      "_view_count": null,
      "_view_module": "@jupyter-widgets/base",
      "_view_module_version": "1.2.0",
      "_view_name": "StyleView",
      "bar_color": null,
      "description_width": ""
     }
    },
    "e1d580f29dbd4c80a9831f392e0741c1": {
     "model_module": "@jupyter-widgets/controls",
     "model_module_version": "1.5.0",
     "model_name": "HBoxModel",
     "state": {
      "_dom_classes": [],
      "_model_module": "@jupyter-widgets/controls",
      "_model_module_version": "1.5.0",
      "_model_name": "HBoxModel",
      "_view_count": null,
      "_view_module": "@jupyter-widgets/controls",
      "_view_module_version": "1.5.0",
      "_view_name": "HBoxView",
      "box_style": "",
      "children": [
       "IPY_MODEL_2d8ed6ede08341b59d163ad568fe9bc7",
       "IPY_MODEL_7978e069d5fb4851b9cee48e9cec1792",
       "IPY_MODEL_05fb72a50a0c49ab900310ea922eedee"
      ],
      "layout": "IPY_MODEL_93a8b2ba6e6a4f82b06dfd31d65b211e"
     }
    },
    "e24db186c5f04219a71fcd05341387f8": {
     "model_module": "@jupyter-widgets/controls",
     "model_module_version": "1.5.0",
     "model_name": "DescriptionStyleModel",
     "state": {
      "_model_module": "@jupyter-widgets/controls",
      "_model_module_version": "1.5.0",
      "_model_name": "DescriptionStyleModel",
      "_view_count": null,
      "_view_module": "@jupyter-widgets/base",
      "_view_module_version": "1.2.0",
      "_view_name": "StyleView",
      "description_width": ""
     }
    },
    "e98f426262b74367ba89432c58d93892": {
     "model_module": "@jupyter-widgets/base",
     "model_module_version": "1.2.0",
     "model_name": "LayoutModel",
     "state": {
      "_model_module": "@jupyter-widgets/base",
      "_model_module_version": "1.2.0",
      "_model_name": "LayoutModel",
      "_view_count": null,
      "_view_module": "@jupyter-widgets/base",
      "_view_module_version": "1.2.0",
      "_view_name": "LayoutView",
      "align_content": null,
      "align_items": null,
      "align_self": null,
      "border": null,
      "bottom": null,
      "display": null,
      "flex": null,
      "flex_flow": null,
      "grid_area": null,
      "grid_auto_columns": null,
      "grid_auto_flow": null,
      "grid_auto_rows": null,
      "grid_column": null,
      "grid_gap": null,
      "grid_row": null,
      "grid_template_areas": null,
      "grid_template_columns": null,
      "grid_template_rows": null,
      "height": null,
      "justify_content": null,
      "justify_items": null,
      "left": null,
      "margin": null,
      "max_height": null,
      "max_width": null,
      "min_height": null,
      "min_width": null,
      "object_fit": null,
      "object_position": null,
      "order": null,
      "overflow": null,
      "overflow_x": null,
      "overflow_y": null,
      "padding": null,
      "right": null,
      "top": null,
      "visibility": null,
      "width": null
     }
    },
    "ed69274b7387466aaf0a7bc3181e6a10": {
     "model_module": "@jupyter-widgets/controls",
     "model_module_version": "1.5.0",
     "model_name": "HTMLModel",
     "state": {
      "_dom_classes": [],
      "_model_module": "@jupyter-widgets/controls",
      "_model_module_version": "1.5.0",
      "_model_name": "HTMLModel",
      "_view_count": null,
      "_view_module": "@jupyter-widgets/controls",
      "_view_module_version": "1.5.0",
      "_view_name": "HTMLView",
      "description": "",
      "description_tooltip": null,
      "layout": "IPY_MODEL_1a4c64b06fdc4c98aeba6dded3e3cffb",
      "placeholder": "​",
      "style": "IPY_MODEL_c6fc2f2b0f9a4388911cd2b8aba4f13b",
      "value": " 100/100 [05:32&lt;00:00,  3.30s/it]"
     }
    },
    "f598e377745e4656a909f366433d679e": {
     "model_module": "@jupyter-widgets/controls",
     "model_module_version": "1.5.0",
     "model_name": "ProgressStyleModel",
     "state": {
      "_model_module": "@jupyter-widgets/controls",
      "_model_module_version": "1.5.0",
      "_model_name": "ProgressStyleModel",
      "_view_count": null,
      "_view_module": "@jupyter-widgets/base",
      "_view_module_version": "1.2.0",
      "_view_name": "StyleView",
      "bar_color": null,
      "description_width": ""
     }
    },
    "f5d6d04cb083440ab0d5d200eb90edda": {
     "model_module": "@jupyter-widgets/base",
     "model_module_version": "1.2.0",
     "model_name": "LayoutModel",
     "state": {
      "_model_module": "@jupyter-widgets/base",
      "_model_module_version": "1.2.0",
      "_model_name": "LayoutModel",
      "_view_count": null,
      "_view_module": "@jupyter-widgets/base",
      "_view_module_version": "1.2.0",
      "_view_name": "LayoutView",
      "align_content": null,
      "align_items": null,
      "align_self": null,
      "border": null,
      "bottom": null,
      "display": null,
      "flex": null,
      "flex_flow": null,
      "grid_area": null,
      "grid_auto_columns": null,
      "grid_auto_flow": null,
      "grid_auto_rows": null,
      "grid_column": null,
      "grid_gap": null,
      "grid_row": null,
      "grid_template_areas": null,
      "grid_template_columns": null,
      "grid_template_rows": null,
      "height": null,
      "justify_content": null,
      "justify_items": null,
      "left": null,
      "margin": null,
      "max_height": null,
      "max_width": null,
      "min_height": null,
      "min_width": null,
      "object_fit": null,
      "object_position": null,
      "order": null,
      "overflow": null,
      "overflow_x": null,
      "overflow_y": null,
      "padding": null,
      "right": null,
      "top": null,
      "visibility": null,
      "width": null
     }
    },
    "f99bba1ed5d04dd681e6dd8d68dbbb43": {
     "model_module": "@jupyter-widgets/controls",
     "model_module_version": "1.5.0",
     "model_name": "HBoxModel",
     "state": {
      "_dom_classes": [],
      "_model_module": "@jupyter-widgets/controls",
      "_model_module_version": "1.5.0",
      "_model_name": "HBoxModel",
      "_view_count": null,
      "_view_module": "@jupyter-widgets/controls",
      "_view_module_version": "1.5.0",
      "_view_name": "HBoxView",
      "box_style": "",
      "children": [
       "IPY_MODEL_d016f8a372d84a638818e6692d8fc970",
       "IPY_MODEL_aa7c9d4ffdc341ddb0a043ce11af5a7c",
       "IPY_MODEL_da3944bd85b24ac5a662ecc6d4b99f86"
      ],
      "layout": "IPY_MODEL_0f22733883184d9da98a2ea506214b36"
     }
    },
    "f9b60d14e7b447a5aef4c8e493c1333b": {
     "model_module": "@jupyter-widgets/base",
     "model_module_version": "1.2.0",
     "model_name": "LayoutModel",
     "state": {
      "_model_module": "@jupyter-widgets/base",
      "_model_module_version": "1.2.0",
      "_model_name": "LayoutModel",
      "_view_count": null,
      "_view_module": "@jupyter-widgets/base",
      "_view_module_version": "1.2.0",
      "_view_name": "LayoutView",
      "align_content": null,
      "align_items": null,
      "align_self": null,
      "border": null,
      "bottom": null,
      "display": null,
      "flex": null,
      "flex_flow": null,
      "grid_area": null,
      "grid_auto_columns": null,
      "grid_auto_flow": null,
      "grid_auto_rows": null,
      "grid_column": null,
      "grid_gap": null,
      "grid_row": null,
      "grid_template_areas": null,
      "grid_template_columns": null,
      "grid_template_rows": null,
      "height": null,
      "justify_content": null,
      "justify_items": null,
      "left": null,
      "margin": null,
      "max_height": null,
      "max_width": null,
      "min_height": null,
      "min_width": null,
      "object_fit": null,
      "object_position": null,
      "order": null,
      "overflow": null,
      "overflow_x": null,
      "overflow_y": null,
      "padding": null,
      "right": null,
      "top": null,
      "visibility": null,
      "width": null
     }
    },
    "fa325129f1b44c57bd694339d094394e": {
     "model_module": "@jupyter-widgets/controls",
     "model_module_version": "1.5.0",
     "model_name": "HBoxModel",
     "state": {
      "_dom_classes": [],
      "_model_module": "@jupyter-widgets/controls",
      "_model_module_version": "1.5.0",
      "_model_name": "HBoxModel",
      "_view_count": null,
      "_view_module": "@jupyter-widgets/controls",
      "_view_module_version": "1.5.0",
      "_view_name": "HBoxView",
      "box_style": "",
      "children": [
       "IPY_MODEL_a89e5def93a2416c9c868660ccac1fea",
       "IPY_MODEL_048c9f9b79a843aba95ae6e01d397fdb",
       "IPY_MODEL_c120c91ab2284d549f019c70f3b8b0e2"
      ],
      "layout": "IPY_MODEL_5ddc39e8647440ec8c06c3c6d3ece0ab"
     }
    }
   }
  }
 },
 "nbformat": 4,
 "nbformat_minor": 5
}
